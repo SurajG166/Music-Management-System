{
 "cells": [
  {
   "cell_type": "code",
   "execution_count": 1,
   "id": "7a14fef4-c5a6-4ec1-b913-8f6bce9968c3",
   "metadata": {},
   "outputs": [],
   "source": [
    "import pandas as pd #used for data manipulation and analysis provides tools such as data frame , time series etc "
   ]
  },
  {
   "cell_type": "code",
   "execution_count": 2,
   "id": "d129cbd1-d8d4-4409-ba12-d90a05f5be09",
   "metadata": {},
   "outputs": [
    {
     "data": {
      "text/html": [
       "<div>\n",
       "<style scoped>\n",
       "    .dataframe tbody tr th:only-of-type {\n",
       "        vertical-align: middle;\n",
       "    }\n",
       "\n",
       "    .dataframe tbody tr th {\n",
       "        vertical-align: top;\n",
       "    }\n",
       "\n",
       "    .dataframe thead th {\n",
       "        text-align: right;\n",
       "    }\n",
       "</style>\n",
       "<table border=\"1\" class=\"dataframe\">\n",
       "  <thead>\n",
       "    <tr style=\"text-align: right;\">\n",
       "      <th></th>\n",
       "      <th>artist</th>\n",
       "      <th>song</th>\n",
       "      <th>link</th>\n",
       "      <th>text</th>\n",
       "    </tr>\n",
       "  </thead>\n",
       "  <tbody>\n",
       "    <tr>\n",
       "      <th>0</th>\n",
       "      <td>ABBA</td>\n",
       "      <td>Ahe's My Kind Of Girl</td>\n",
       "      <td>/a/abba/ahes+my+kind+of+girl_20598417.html</td>\n",
       "      <td>Look at her face, it's a wonderful face  \\r\\nA...</td>\n",
       "    </tr>\n",
       "    <tr>\n",
       "      <th>1</th>\n",
       "      <td>ABBA</td>\n",
       "      <td>Andante, Andante</td>\n",
       "      <td>/a/abba/andante+andante_20002708.html</td>\n",
       "      <td>Take it easy with me, please  \\r\\nTouch me gen...</td>\n",
       "    </tr>\n",
       "    <tr>\n",
       "      <th>2</th>\n",
       "      <td>ABBA</td>\n",
       "      <td>As Good As New</td>\n",
       "      <td>/a/abba/as+good+as+new_20003033.html</td>\n",
       "      <td>I'll never know why I had to go  \\r\\nWhy I had...</td>\n",
       "    </tr>\n",
       "    <tr>\n",
       "      <th>3</th>\n",
       "      <td>ABBA</td>\n",
       "      <td>Bang</td>\n",
       "      <td>/a/abba/bang_20598415.html</td>\n",
       "      <td>Making somebody happy is a question of give an...</td>\n",
       "    </tr>\n",
       "    <tr>\n",
       "      <th>4</th>\n",
       "      <td>ABBA</td>\n",
       "      <td>Bang-A-Boomerang</td>\n",
       "      <td>/a/abba/bang+a+boomerang_20002668.html</td>\n",
       "      <td>Making somebody happy is a question of give an...</td>\n",
       "    </tr>\n",
       "    <tr>\n",
       "      <th>...</th>\n",
       "      <td>...</td>\n",
       "      <td>...</td>\n",
       "      <td>...</td>\n",
       "      <td>...</td>\n",
       "    </tr>\n",
       "    <tr>\n",
       "      <th>57645</th>\n",
       "      <td>Ziggy Marley</td>\n",
       "      <td>Good Old Days</td>\n",
       "      <td>/z/ziggy+marley/good+old+days_10198588.html</td>\n",
       "      <td>Irie days come on play  \\r\\nLet the angels fly...</td>\n",
       "    </tr>\n",
       "    <tr>\n",
       "      <th>57646</th>\n",
       "      <td>Ziggy Marley</td>\n",
       "      <td>Hand To Mouth</td>\n",
       "      <td>/z/ziggy+marley/hand+to+mouth_20531167.html</td>\n",
       "      <td>Power to the workers  \\r\\nMore power  \\r\\nPowe...</td>\n",
       "    </tr>\n",
       "    <tr>\n",
       "      <th>57647</th>\n",
       "      <td>Zwan</td>\n",
       "      <td>Come With Me</td>\n",
       "      <td>/z/zwan/come+with+me_20148981.html</td>\n",
       "      <td>all you need  \\r\\nis something i'll believe  \\...</td>\n",
       "    </tr>\n",
       "    <tr>\n",
       "      <th>57648</th>\n",
       "      <td>Zwan</td>\n",
       "      <td>Desire</td>\n",
       "      <td>/z/zwan/desire_20148986.html</td>\n",
       "      <td>northern star  \\r\\nam i frightened  \\r\\nwhere ...</td>\n",
       "    </tr>\n",
       "    <tr>\n",
       "      <th>57649</th>\n",
       "      <td>Zwan</td>\n",
       "      <td>Heartsong</td>\n",
       "      <td>/z/zwan/heartsong_20148991.html</td>\n",
       "      <td>come in  \\r\\nmake yourself at home  \\r\\ni'm a ...</td>\n",
       "    </tr>\n",
       "  </tbody>\n",
       "</table>\n",
       "<p>57650 rows × 4 columns</p>\n",
       "</div>"
      ],
      "text/plain": [
       "             artist                   song  \\\n",
       "0              ABBA  Ahe's My Kind Of Girl   \n",
       "1              ABBA       Andante, Andante   \n",
       "2              ABBA         As Good As New   \n",
       "3              ABBA                   Bang   \n",
       "4              ABBA       Bang-A-Boomerang   \n",
       "...             ...                    ...   \n",
       "57645  Ziggy Marley          Good Old Days   \n",
       "57646  Ziggy Marley          Hand To Mouth   \n",
       "57647          Zwan           Come With Me   \n",
       "57648          Zwan                 Desire   \n",
       "57649          Zwan              Heartsong   \n",
       "\n",
       "                                              link  \\\n",
       "0       /a/abba/ahes+my+kind+of+girl_20598417.html   \n",
       "1            /a/abba/andante+andante_20002708.html   \n",
       "2             /a/abba/as+good+as+new_20003033.html   \n",
       "3                       /a/abba/bang_20598415.html   \n",
       "4           /a/abba/bang+a+boomerang_20002668.html   \n",
       "...                                            ...   \n",
       "57645  /z/ziggy+marley/good+old+days_10198588.html   \n",
       "57646  /z/ziggy+marley/hand+to+mouth_20531167.html   \n",
       "57647           /z/zwan/come+with+me_20148981.html   \n",
       "57648                 /z/zwan/desire_20148986.html   \n",
       "57649              /z/zwan/heartsong_20148991.html   \n",
       "\n",
       "                                                    text  \n",
       "0      Look at her face, it's a wonderful face  \\r\\nA...  \n",
       "1      Take it easy with me, please  \\r\\nTouch me gen...  \n",
       "2      I'll never know why I had to go  \\r\\nWhy I had...  \n",
       "3      Making somebody happy is a question of give an...  \n",
       "4      Making somebody happy is a question of give an...  \n",
       "...                                                  ...  \n",
       "57645  Irie days come on play  \\r\\nLet the angels fly...  \n",
       "57646  Power to the workers  \\r\\nMore power  \\r\\nPowe...  \n",
       "57647  all you need  \\r\\nis something i'll believe  \\...  \n",
       "57648  northern star  \\r\\nam i frightened  \\r\\nwhere ...  \n",
       "57649  come in  \\r\\nmake yourself at home  \\r\\ni'm a ...  \n",
       "\n",
       "[57650 rows x 4 columns]"
      ]
     },
     "execution_count": 2,
     "metadata": {},
     "output_type": "execute_result"
    }
   ],
   "source": [
    "pd.read_csv(\"spotify_millsongdata.csv\")"
   ]
  },
  {
   "cell_type": "code",
   "execution_count": 5,
   "id": "074e431c-3f10-4e70-a3f6-cd454d2626f8",
   "metadata": {},
   "outputs": [],
   "source": [
    "df=pd.read_csv(\"spotify_millsongdata.csv\") #reading csv files using pandas"
   ]
  },
  {
   "cell_type": "code",
   "execution_count": 10,
   "id": "018472fd-da70-4462-b2a1-e2b76464daf2",
   "metadata": {},
   "outputs": [],
   "source": [
    "df =df.sample(5000).drop('link', axis=1).reset_index(drop=True)"
   ]
  },
  {
   "cell_type": "code",
   "execution_count": 11,
   "id": "8caede6f-1758-4798-9d0c-d9b1af87c407",
   "metadata": {},
   "outputs": [
    {
     "data": {
      "text/plain": [
       "(5000, 3)"
      ]
     },
     "execution_count": 11,
     "metadata": {},
     "output_type": "execute_result"
    }
   ],
   "source": [
    "df.shape"
   ]
  },
  {
   "cell_type": "code",
   "execution_count": 12,
   "id": "13a3a63c-2000-4a78-8e38-68d83993f08f",
   "metadata": {
    "scrolled": true
   },
   "outputs": [
    {
     "data": {
      "text/html": [
       "<div>\n",
       "<style scoped>\n",
       "    .dataframe tbody tr th:only-of-type {\n",
       "        vertical-align: middle;\n",
       "    }\n",
       "\n",
       "    .dataframe tbody tr th {\n",
       "        vertical-align: top;\n",
       "    }\n",
       "\n",
       "    .dataframe thead th {\n",
       "        text-align: right;\n",
       "    }\n",
       "</style>\n",
       "<table border=\"1\" class=\"dataframe\">\n",
       "  <thead>\n",
       "    <tr style=\"text-align: right;\">\n",
       "      <th></th>\n",
       "      <th>artist</th>\n",
       "      <th>song</th>\n",
       "      <th>text</th>\n",
       "    </tr>\n",
       "  </thead>\n",
       "  <tbody>\n",
       "    <tr>\n",
       "      <th>0</th>\n",
       "      <td>Marianne Faithfull</td>\n",
       "      <td>Ireland</td>\n",
       "      <td>There is a land that I can go to  \\r\\nWhen I h...</td>\n",
       "    </tr>\n",
       "    <tr>\n",
       "      <th>1</th>\n",
       "      <td>Lauryn Hill</td>\n",
       "      <td>I Will Follow Him</td>\n",
       "      <td>I will follow Him,  \\r\\nFollow Him wherever He...</td>\n",
       "    </tr>\n",
       "    <tr>\n",
       "      <th>2</th>\n",
       "      <td>Genesis</td>\n",
       "      <td>In The Beginning</td>\n",
       "      <td>Ocean of motion  \\r\\nSquirming around and up a...</td>\n",
       "    </tr>\n",
       "    <tr>\n",
       "      <th>3</th>\n",
       "      <td>Cinderella</td>\n",
       "      <td>I'm Giving Love For Christmas</td>\n",
       "      <td>I'm giving love for Christmas  \\r\\nTo everyone...</td>\n",
       "    </tr>\n",
       "    <tr>\n",
       "      <th>4</th>\n",
       "      <td>Lil Wayne</td>\n",
       "      <td>Get Down</td>\n",
       "      <td>Weezy  \\r\\nWhat up pop, what up pop.  \\r\\nFuck...</td>\n",
       "    </tr>\n",
       "  </tbody>\n",
       "</table>\n",
       "</div>"
      ],
      "text/plain": [
       "               artist                           song  \\\n",
       "0  Marianne Faithfull                        Ireland   \n",
       "1         Lauryn Hill              I Will Follow Him   \n",
       "2             Genesis               In The Beginning   \n",
       "3          Cinderella  I'm Giving Love For Christmas   \n",
       "4           Lil Wayne                       Get Down   \n",
       "\n",
       "                                                text  \n",
       "0  There is a land that I can go to  \\r\\nWhen I h...  \n",
       "1  I will follow Him,  \\r\\nFollow Him wherever He...  \n",
       "2  Ocean of motion  \\r\\nSquirming around and up a...  \n",
       "3  I'm giving love for Christmas  \\r\\nTo everyone...  \n",
       "4  Weezy  \\r\\nWhat up pop, what up pop.  \\r\\nFuck...  "
      ]
     },
     "execution_count": 12,
     "metadata": {},
     "output_type": "execute_result"
    }
   ],
   "source": [
    "df.head(5) #first 5"
   ]
  },
  {
   "cell_type": "code",
   "execution_count": 9,
   "id": "972adc27-8a56-4655-ae48-f75568f45c8a",
   "metadata": {},
   "outputs": [
    {
     "data": {
      "text/html": [
       "<div>\n",
       "<style scoped>\n",
       "    .dataframe tbody tr th:only-of-type {\n",
       "        vertical-align: middle;\n",
       "    }\n",
       "\n",
       "    .dataframe tbody tr th {\n",
       "        vertical-align: top;\n",
       "    }\n",
       "\n",
       "    .dataframe thead th {\n",
       "        text-align: right;\n",
       "    }\n",
       "</style>\n",
       "<table border=\"1\" class=\"dataframe\">\n",
       "  <thead>\n",
       "    <tr style=\"text-align: right;\">\n",
       "      <th></th>\n",
       "      <th>artist</th>\n",
       "      <th>song</th>\n",
       "      <th>link</th>\n",
       "      <th>text</th>\n",
       "    </tr>\n",
       "  </thead>\n",
       "  <tbody>\n",
       "    <tr>\n",
       "      <th>17723</th>\n",
       "      <td>Robbie Williams</td>\n",
       "      <td>Go Gentle</td>\n",
       "      <td>/r/robbie+williams/go+gentle_21069984.html</td>\n",
       "      <td>You're gonna meet some strangers.  \\r\\nWelcome...</td>\n",
       "    </tr>\n",
       "    <tr>\n",
       "      <th>35309</th>\n",
       "      <td>Hank Williams Jr.</td>\n",
       "      <td>Lyin' Jukebox</td>\n",
       "      <td>/h/hank+williams+jr/lyin+jukebox_20827361.html</td>\n",
       "      <td>Well, I've been sittin' here listenin'  \\r\\nTo...</td>\n",
       "    </tr>\n",
       "    <tr>\n",
       "      <th>14281</th>\n",
       "      <td>Nitty Gritty Dirt Band</td>\n",
       "      <td>Let's Talk Dirty In Hawaiian</td>\n",
       "      <td>/n/nitty+gritty+dirt+band/lets+talk+dirty+in+h...</td>\n",
       "      <td>I packed my bags and bought myself a ticket  \\...</td>\n",
       "    </tr>\n",
       "    <tr>\n",
       "      <th>1414</th>\n",
       "      <td>Billy Joel</td>\n",
       "      <td>Summer, Highland Falls</td>\n",
       "      <td>/b/billy+joel/summer+highland+falls_20073041.html</td>\n",
       "      <td>They say that these are not the best of times ...</td>\n",
       "    </tr>\n",
       "    <tr>\n",
       "      <th>14282</th>\n",
       "      <td>Nitty Gritty Dirt Band</td>\n",
       "      <td>Life's Railway To Heaven</td>\n",
       "      <td>/n/nitty+gritty+dirt+band/lifes+railway+to+hea...</td>\n",
       "      <td>Life is like a mountain railway, with an engin...</td>\n",
       "    </tr>\n",
       "  </tbody>\n",
       "</table>\n",
       "</div>"
      ],
      "text/plain": [
       "                       artist                          song  \\\n",
       "17723         Robbie Williams                     Go Gentle   \n",
       "35309       Hank Williams Jr.                 Lyin' Jukebox   \n",
       "14281  Nitty Gritty Dirt Band  Let's Talk Dirty In Hawaiian   \n",
       "1414               Billy Joel        Summer, Highland Falls   \n",
       "14282  Nitty Gritty Dirt Band      Life's Railway To Heaven   \n",
       "\n",
       "                                                    link  \\\n",
       "17723         /r/robbie+williams/go+gentle_21069984.html   \n",
       "35309     /h/hank+williams+jr/lyin+jukebox_20827361.html   \n",
       "14281  /n/nitty+gritty+dirt+band/lets+talk+dirty+in+h...   \n",
       "1414   /b/billy+joel/summer+highland+falls_20073041.html   \n",
       "14282  /n/nitty+gritty+dirt+band/lifes+railway+to+hea...   \n",
       "\n",
       "                                                    text  \n",
       "17723  You're gonna meet some strangers.  \\r\\nWelcome...  \n",
       "35309  Well, I've been sittin' here listenin'  \\r\\nTo...  \n",
       "14281  I packed my bags and bought myself a ticket  \\...  \n",
       "1414   They say that these are not the best of times ...  \n",
       "14282  Life is like a mountain railway, with an engin...  "
      ]
     },
     "execution_count": 9,
     "metadata": {},
     "output_type": "execute_result"
    }
   ],
   "source": [
    "df.tail(5)"
   ]
  },
  {
   "cell_type": "code",
   "execution_count": 13,
   "id": "a8e3fd52-226d-4baa-953a-e0d49872eccf",
   "metadata": {},
   "outputs": [
    {
     "data": {
      "text/plain": [
       "'There is a land that I can go to  \\r\\nWhen I have time to rest.  \\r\\nAll the people I love are there  \\r\\nAnd those who love me best.  \\r\\n  \\r\\n[Chorus]  \\r\\nThen I heard the wind  \\r\\nCalling from over the sea  \\r\\nSaying, \"Ireland, Ireland,  \\r\\nWhen will you be free?\"  \\r\\n\"Ireland, Ireland,  \\r\\nWhen will you be free?\"  \\r\\n  \\r\\nThis land I go to when I\\'m tired  \\r\\nAnd need to see and walk in green.  \\r\\nThe people who can laugh and drink  \\r\\nAnd see things others have not seen.  \\r\\n  \\r\\n[Chorus]  \\r\\n  \\r\\nThere is another side to this pure land,  \\r\\nA side of blood and guilt and pain  \\r\\nA side of enemy and friend  \\r\\nAnd sorrow at the hearth side stain.  \\r\\n  \\r\\n[Chorus]  \\r\\n  \\r\\nThere is a land that I can go to  \\r\\nWhen I have time to rest.  \\r\\nAll the people I love are there  \\r\\nAnd those who love me best.  \\r\\n  \\r\\n[Chorus]  \\r\\n  \\r\\n\"Ireland, Ireland,  \\r\\nWhen will you be free?\"  \\r\\n\"Ireland, Ireland,  \\r\\nWhen will you be free?\"\\r\\n\\r\\n'"
      ]
     },
     "execution_count": 13,
     "metadata": {},
     "output_type": "execute_result"
    }
   ],
   "source": [
    "df['text'][0]"
   ]
  },
  {
   "cell_type": "markdown",
   "id": "d3f71557-3d93-4a14-83eb-71d70a60907d",
   "metadata": {},
   "source": [
    "text cleaning / text preprocessing"
   ]
  },
  {
   "cell_type": "code",
   "execution_count": 14,
   "id": "f31efeba-7812-44d8-984b-5f9fb6e4f9a9",
   "metadata": {},
   "outputs": [],
   "source": [
    "df['text'] = df['text'].str.lower().replace(r'^\\w\\s', ' ').replace(r'\\n', ' ', regex = True) \n",
    "#converts strings to lowercase replace \\w ie word \\s ie is space to blank space since thre is no regex=true for the first replace it is treated as string \n",
    "#the next is to replace all the \\n with space regex=true means it is treated as regular expression"
   ]
  },
  {
   "cell_type": "code",
   "execution_count": 15,
   "id": "274fd292-7ee1-414b-8065-f73a993a2146",
   "metadata": {},
   "outputs": [
    {
     "data": {
      "text/plain": [
       "0       there is a land that i can go to  \\r when i ha...\n",
       "1       i will follow him,  \\r follow him wherever he ...\n",
       "2       ocean of motion  \\r squirming around and up an...\n",
       "3       i'm giving love for christmas  \\r to everyone ...\n",
       "4       weezy  \\r what up pop, what up pop.  \\r fuck w...\n",
       "                              ...                        \n",
       "4995    bury me standing under your window with the ci...\n",
       "4996    maybe  \\r i should have saved  \\r those leftov...\n",
       "4997    i don't know about tomorrow  \\r i just live fo...\n",
       "4998    i didn't really walk away i had something to e...\n",
       "4999    delta dawn what's that flower you have on coul...\n",
       "Name: text, Length: 5000, dtype: object"
      ]
     },
     "execution_count": 15,
     "metadata": {},
     "output_type": "execute_result"
    }
   ],
   "source": [
    "df['text']"
   ]
  },
  {
   "cell_type": "code",
   "execution_count": 16,
   "id": "a327f6d3-b7c0-4391-86ab-601641b79122",
   "metadata": {},
   "outputs": [],
   "source": [
    "import nltk #imports the Natural Language Toolkit a popular Python library for working with human language data (text). used for text processing\n",
    "from nltk.stem.porter import PorterStemmer #Porter Stemmer is a tool that helps simplify words.removes common endings from words to get to the basic form of the word\n",
    "stemmer = PorterStemmer() #is an instance to acess porter stemmer\n",
    "\n",
    "def token(txt):\n",
    "    token = nltk.word_tokenize(txt) #uses NLTK's word tokenizer to split the text into a list of words.\"This is an example.\", token will be ['This', 'is', 'an', 'example', '.'].\n",
    "    a = [stemmer.stem(w) for w in token] #The stemmer.stem(w) method reduces the word w to its root form (also known as the stem).\n",
    "    return \" \".join(a) #For example, if a is ['thi', 'is', 'an', 'exampl'], the result will be the string \"thi is an exampl\", which is then returned by the function."
   ]
  },
  {
   "cell_type": "code",
   "execution_count": 17,
   "id": "691eea15-a777-4ca4-9649-87f98407ace2",
   "metadata": {},
   "outputs": [
    {
     "data": {
      "text/plain": [
       "'you are beauti , beauti'"
      ]
     },
     "execution_count": 17,
     "metadata": {},
     "output_type": "execute_result"
    }
   ],
   "source": [
    "token(\"you are beautiful,beauty\")"
   ]
  },
  {
   "cell_type": "code",
   "execution_count": 18,
   "id": "f785e6df-4fb9-4317-bb7d-784e08b5efc8",
   "metadata": {},
   "outputs": [],
   "source": [
    "df['text'] = df['text'].apply(lambda x: token(x)) #applying this to my data frame"
   ]
  },
  {
   "cell_type": "code",
   "execution_count": 29,
   "id": "80489fdd-e019-4eb3-9117-62318eeaf930",
   "metadata": {},
   "outputs": [],
   "source": [
    "from sklearn.feature_extraction.text import TfidfVectorizer #This is used to convert a collection of raw text documents into a matrix of TF-IDF features\n",
    "from sklearn.metrics.pairwise import cosine_similarity #Cosine similarity measures how similar two documents are by looking at the angle between their word vectors, not the length of the vectors.\n",
    "                                                    #This is useful because it doesn't matter if one document is much longer than the other; it focuses on the content and themes instead."
   ]
  },
  {
   "cell_type": "code",
   "execution_count": 30,
   "id": "0e69d5ac-2d3d-4edd-9482-e1edec7207f3",
   "metadata": {},
   "outputs": [],
   "source": [
    "tfid = TfidfVectorizer(analyzer='word',stop_words='english')\n",
    "#TfidfVectorizer: Initialized with analyzer='word' to analyze the text at the word level.\n",
    "#stop_words='english': Common English words (like \"and\", \"the\") are ignored to focus on more meaningful words."
   ]
  },
  {
   "cell_type": "code",
   "execution_count": 31,
   "id": "74d4b92a-a928-4c59-bddd-5758a9eb04da",
   "metadata": {},
   "outputs": [],
   "source": [
    "matrix = tfid.fit_transform(df['text']) \n",
    "#matrix: A sparse matrix where rows correspond to songs and columns correspond to words, with each cell containing the TF-IDF score of a word in a song."
   ]
  },
  {
   "cell_type": "code",
   "execution_count": 32,
   "id": "882a162f-fe7f-4a3f-95ac-14d50d053825",
   "metadata": {},
   "outputs": [],
   "source": [
    "similar = cosine_similarity(matrix)\n",
    "#: Computes the cosine similarity between all pairs of songs based on their TF-IDF vectors."
   ]
  },
  {
   "cell_type": "code",
   "execution_count": 23,
   "id": "913afff6-2694-4ba2-a126-175e9288ac75",
   "metadata": {},
   "outputs": [
    {
     "data": {
      "text/plain": [
       "array([1.        , 0.03509467, 0.00284188, ..., 0.00613095, 0.04456149,\n",
       "       0.00467358])"
      ]
     },
     "execution_count": 23,
     "metadata": {},
     "output_type": "execute_result"
    }
   ],
   "source": [
    "similar[0]"
   ]
  },
  {
   "cell_type": "code",
   "execution_count": 25,
   "id": "c125d036-b01d-429f-a143-fd81e40b42cd",
   "metadata": {},
   "outputs": [
    {
     "data": {
      "text/html": [
       "<div>\n",
       "<style scoped>\n",
       "    .dataframe tbody tr th:only-of-type {\n",
       "        vertical-align: middle;\n",
       "    }\n",
       "\n",
       "    .dataframe tbody tr th {\n",
       "        vertical-align: top;\n",
       "    }\n",
       "\n",
       "    .dataframe thead th {\n",
       "        text-align: right;\n",
       "    }\n",
       "</style>\n",
       "<table border=\"1\" class=\"dataframe\">\n",
       "  <thead>\n",
       "    <tr style=\"text-align: right;\">\n",
       "      <th></th>\n",
       "      <th>artist</th>\n",
       "      <th>song</th>\n",
       "      <th>text</th>\n",
       "    </tr>\n",
       "  </thead>\n",
       "  <tbody>\n",
       "    <tr>\n",
       "      <th>0</th>\n",
       "      <td>Marianne Faithfull</td>\n",
       "      <td>Ireland</td>\n",
       "      <td>there is a land that i can go to when i have t...</td>\n",
       "    </tr>\n",
       "  </tbody>\n",
       "</table>\n",
       "</div>"
      ],
      "text/plain": [
       "               artist     song  \\\n",
       "0  Marianne Faithfull  Ireland   \n",
       "\n",
       "                                                text  \n",
       "0  there is a land that i can go to when i have t...  "
      ]
     },
     "execution_count": 25,
     "metadata": {},
     "output_type": "execute_result"
    }
   ],
   "source": [
    "df[df['song'] == 'Ireland']"
   ]
  },
  {
   "cell_type": "markdown",
   "id": "245ae726-0717-4ca5-96ad-5577b945d33b",
   "metadata": {},
   "source": [
    "Recommender function"
   ]
  },
  {
   "cell_type": "code",
   "execution_count": 33,
   "id": "6f48a4ea-d571-4d9e-9129-8c74c28750df",
   "metadata": {},
   "outputs": [],
   "source": [
    "def recommendation(song_df):\n",
    "    idx = df[df['song'] == song_df].index[0]\n",
    "    # Filters the DataFrame to find the row where the song title matches the input song_df.\n",
    "    #index[0]: Gets the index of the first matching row (assuming song titles are unique).\n",
    "\n",
    "    distances = sorted(list(enumerate(similar[idx])),reverse=True,key=lambda x:x[1])\n",
    "    #similar[idx]: Gets the similarity scores between the input song and all other songs.\n",
    "    #enumerate: Creates an enumerated list of similarity scores.\n",
    "    #sorted: Sorts the list of (index, score) tuples in descending order of similarity scores.\n",
    "    songs = []\n",
    "    for m_id in distances[1:21]:\n",
    "        songs.append(df.iloc[m_id[0]].song)\n",
    "    return songs"
   ]
  },
  {
   "cell_type": "code",
   "execution_count": 27,
   "id": "cbc4693a-a5bd-4c71-aa64-59bf498b2ada",
   "metadata": {},
   "outputs": [
    {
     "data": {
      "text/plain": [
       "['Free',\n",
       " 'Galway Bay',\n",
       " \"I'm The Sky\",\n",
       " 'Freedom Dance',\n",
       " 'Free Like We Want 2 B',\n",
       " 'Set Me Free',\n",
       " 'Children Of The Bad Revolution',\n",
       " 'Something To Say',\n",
       " 'I Want To Be Free',\n",
       " \"For Pete's Sake\",\n",
       " 'Take A Ride',\n",
       " \"Wild 'n Free\",\n",
       " 'Best That I Can',\n",
       " 'The Rest Of The Night',\n",
       " 'Love Is',\n",
       " '10 Seconds To Countdown',\n",
       " 'Law Of The Land',\n",
       " 'Until Dawn',\n",
       " 'Thank You Love',\n",
       " 'I Will Be The End Of You']"
      ]
     },
     "execution_count": 27,
     "metadata": {},
     "output_type": "execute_result"
    }
   ],
   "source": [
    "recommendation('Ireland')"
   ]
  },
  {
   "cell_type": "code",
   "execution_count": 34,
   "id": "86681aa9-3820-42f3-8bab-2898dd35919b",
   "metadata": {},
   "outputs": [],
   "source": [
    "import pickle #This module is used for serializing and de-serializing Python object structures, also known as \"pickling\" and \"unpickling\n",
    "#Serialization is the process of converting a data structure or object state into a format that can be stored and later reconstructed. \n",
    "pickle.dump(similar,open('similarity.pkl','wb')) #What It Contains: The cosine similarity matrix between all songs' lyrics\n",
    "pickle.dump(df,open('df.pkl','wb')) #What It Contains: The DataFrame (df) with song data, including song titles and lyrics."
   ]
  }
 ],
 "metadata": {
  "kernelspec": {
   "display_name": "Python 3 (ipykernel)",
   "language": "python",
   "name": "python3"
  },
  "language_info": {
   "codemirror_mode": {
    "name": "ipython",
    "version": 3
   },
   "file_extension": ".py",
   "mimetype": "text/x-python",
   "name": "python",
   "nbconvert_exporter": "python",
   "pygments_lexer": "ipython3",
   "version": "3.10.10"
  }
 },
 "nbformat": 4,
 "nbformat_minor": 5
}
